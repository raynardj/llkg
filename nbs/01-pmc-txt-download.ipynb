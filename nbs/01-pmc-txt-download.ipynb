{
 "cells": [
  {
   "cell_type": "markdown",
   "id": "ed0619ef-35f4-49f7-8128-3c595ffcea4b",
   "metadata": {},
   "source": [
    "# PMC txt download"
   ]
  },
  {
   "cell_type": "code",
   "execution_count": 1,
   "id": "8ccef583-0eb7-446e-a716-6de6ee65cda3",
   "metadata": {},
   "outputs": [],
   "source": [
    "import requests"
   ]
  },
  {
   "cell_type": "code",
   "execution_count": 2,
   "id": "e24094e7-7908-400a-b8b6-b7d4e3c5045e",
   "metadata": {},
   "outputs": [],
   "source": [
    "# ! pip install --no-cache-dir beautifulsoup4"
   ]
  },
  {
   "cell_type": "code",
   "execution_count": 3,
   "id": "f85f99dd-df45-4690-a5d6-90b54185edf9",
   "metadata": {},
   "outputs": [],
   "source": [
    "from bs4 import BeautifulSoup"
   ]
  },
  {
   "cell_type": "code",
   "execution_count": 4,
   "id": "9c0504dc-26aa-40fa-a93a-482b4c88291b",
   "metadata": {},
   "outputs": [],
   "source": [
    "LIST_PAGE = \"https://ftp.ncbi.nlm.nih.gov/pub/pmc/oa_bulk/oa_comm/txt/\""
   ]
  },
  {
   "cell_type": "code",
   "execution_count": 5,
   "id": "ff20426f-c8e8-4f39-8f4a-d382f0c88a69",
   "metadata": {},
   "outputs": [],
   "source": [
    "def get_page(url: str) -> str:\n",
    "    return requests.get(url).text\n",
    "\n",
    "\n",
    "def get_tars(list_doc):\n",
    "    for a in list_doc.find_all(\"a\"):\n",
    "        if \"baseline\" in a.text and a.text[-6:] == \"tar.gz\":\n",
    "            yield dict(\n",
    "                filename = a.text,\n",
    "                href = a.attrs[\"href\"]\n",
    "            )"
   ]
  },
  {
   "cell_type": "code",
   "execution_count": 6,
   "id": "ed135af6-77b5-4a0d-8aaf-edbab3ef66f7",
   "metadata": {},
   "outputs": [],
   "source": [
    "list_page = get_page(LIST_PAGE)\n",
    "list_doc = BeautifulSoup(list_page)"
   ]
  },
  {
   "cell_type": "markdown",
   "id": "bbe1b7af-ebe2-4645-a107-6b40f31d4c55",
   "metadata": {},
   "source": [
    "## Download"
   ]
  },
  {
   "cell_type": "code",
   "execution_count": 7,
   "id": "53417869-7036-44d2-b463-c020621cf255",
   "metadata": {},
   "outputs": [],
   "source": [
    "from pathlib import Path"
   ]
  },
  {
   "cell_type": "code",
   "execution_count": 15,
   "id": "35e38de9-604f-4d2e-9a03-239513ff6145",
   "metadata": {},
   "outputs": [],
   "source": [
    "STORAGE = Path.home()/\"storage\"\n",
    "TXT_DIR = STORAGE / \"txt\""
   ]
  },
  {
   "cell_type": "code",
   "execution_count": 16,
   "id": "e7b6a7cf-7577-4d65-a04d-f778688b2b77",
   "metadata": {},
   "outputs": [],
   "source": [
    "!mkdir -p {TXT_DIR}"
   ]
  },
  {
   "cell_type": "code",
   "execution_count": 14,
   "id": "3ede9310-9132-4ca7-a701-f71f66b4ee85",
   "metadata": {},
   "outputs": [],
   "source": [
    "# !rm -rf ./storage/txt"
   ]
  },
  {
   "cell_type": "code",
   "execution_count": 18,
   "id": "523526f0-6f41-4aeb-8791-1b9633566350",
   "metadata": {},
   "outputs": [
    {
     "name": "stdout",
     "output_type": "stream",
     "text": [
      "--2023-09-23 21:34:08--  https://ftp.ncbi.nlm.nih.gov/pub/pmc/oa_bulk/oa_comm/txt/oa_comm_txt.PMC000xxxxxx.baseline.2023-09-08.tar.gz\n",
      "Resolving ftp.ncbi.nlm.nih.gov (ftp.ncbi.nlm.nih.gov)... 130.14.250.7, 130.14.250.11, 2607:f220:41e:250::10, ...\n",
      "Connecting to ftp.ncbi.nlm.nih.gov (ftp.ncbi.nlm.nih.gov)|130.14.250.7|:443... connected.\n",
      "HTTP request sent, awaiting response... 200 OK\n",
      "Length: 35072332 (33M) [application/x-gzip]\n",
      "Saving to: ‘/home/jovyan/storage/txt/oa_comm_txt.PMC000xxxxxx.baseline.2023-09-08.tar.gz’\n",
      "\n",
      "oa_comm_txt.PMC000x 100%[===================>]  33.45M  42.3MB/s    in 0.8s    \n",
      "\n",
      "2023-09-23 21:34:10 (42.3 MB/s) - ‘/home/jovyan/storage/txt/oa_comm_txt.PMC000xxxxxx.baseline.2023-09-08.tar.gz’ saved [35072332/35072332]\n",
      "\n",
      "--2023-09-23 21:34:11--  https://ftp.ncbi.nlm.nih.gov/pub/pmc/oa_bulk/oa_comm/txt/oa_comm_txt.PMC001xxxxxx.baseline.2023-09-08.tar.gz\n",
      "Resolving ftp.ncbi.nlm.nih.gov (ftp.ncbi.nlm.nih.gov)... 130.14.250.7, 130.14.250.11, 2607:f220:41e:250::10, ...\n",
      "Connecting to ftp.ncbi.nlm.nih.gov (ftp.ncbi.nlm.nih.gov)|130.14.250.7|:443... connected.\n",
      "HTTP request sent, awaiting response... 200 OK\n",
      "Length: 342235813 (326M) [application/x-gzip]\n",
      "Saving to: ‘/home/jovyan/storage/txt/oa_comm_txt.PMC001xxxxxx.baseline.2023-09-08.tar.gz’\n",
      "\n",
      "oa_comm_txt.PMC001x 100%[===================>] 326.38M   106MB/s    in 3.2s    \n",
      "\n",
      "2023-09-23 21:34:14 (101 MB/s) - ‘/home/jovyan/storage/txt/oa_comm_txt.PMC001xxxxxx.baseline.2023-09-08.tar.gz’ saved [342235813/342235813]\n",
      "\n",
      "--2023-09-23 21:34:15--  https://ftp.ncbi.nlm.nih.gov/pub/pmc/oa_bulk/oa_comm/txt/oa_comm_txt.PMC002xxxxxx.baseline.2023-09-08.tar.gz\n",
      "Resolving ftp.ncbi.nlm.nih.gov (ftp.ncbi.nlm.nih.gov)... 130.14.250.7, 130.14.250.11, 2607:f220:41e:250::10, ...\n",
      "Connecting to ftp.ncbi.nlm.nih.gov (ftp.ncbi.nlm.nih.gov)|130.14.250.7|:443... connected.\n",
      "HTTP request sent, awaiting response... 200 OK\n",
      "Length: 1471750675 (1.4G) [application/x-gzip]\n",
      "Saving to: ‘/home/jovyan/storage/txt/oa_comm_txt.PMC002xxxxxx.baseline.2023-09-08.tar.gz’\n",
      "\n",
      "oa_comm_txt.PMC002x 100%[===================>]   1.37G   110MB/s    in 13s     \n",
      "\n",
      "2023-09-23 21:34:28 (108 MB/s) - ‘/home/jovyan/storage/txt/oa_comm_txt.PMC002xxxxxx.baseline.2023-09-08.tar.gz’ saved [1471750675/1471750675]\n",
      "\n",
      "--2023-09-23 21:34:29--  https://ftp.ncbi.nlm.nih.gov/pub/pmc/oa_bulk/oa_comm/txt/oa_comm_txt.PMC003xxxxxx.baseline.2023-09-08.tar.gz\n",
      "Resolving ftp.ncbi.nlm.nih.gov (ftp.ncbi.nlm.nih.gov)... 130.14.250.7, 130.14.250.11, 2607:f220:41e:250::10, ...\n",
      "Connecting to ftp.ncbi.nlm.nih.gov (ftp.ncbi.nlm.nih.gov)|130.14.250.7|:443... connected.\n",
      "HTTP request sent, awaiting response... 200 OK\n",
      "Length: 4368030223 (4.1G) [application/x-gzip]\n",
      "Saving to: ‘/home/jovyan/storage/txt/oa_comm_txt.PMC003xxxxxx.baseline.2023-09-08.tar.gz’\n",
      "\n",
      "oa_comm_txt.PMC003x 100%[===================>]   4.07G   110MB/s    in 39s     \n",
      "\n",
      "2023-09-23 21:35:08 (107 MB/s) - ‘/home/jovyan/storage/txt/oa_comm_txt.PMC003xxxxxx.baseline.2023-09-08.tar.gz’ saved [4368030223/4368030223]\n",
      "\n",
      "--2023-09-23 21:35:10--  https://ftp.ncbi.nlm.nih.gov/pub/pmc/oa_bulk/oa_comm/txt/oa_comm_txt.PMC004xxxxxx.baseline.2023-09-08.tar.gz\n",
      "Resolving ftp.ncbi.nlm.nih.gov (ftp.ncbi.nlm.nih.gov)... 165.112.9.229, 130.14.250.13, 2607:f220:41e:250::12, ...\n",
      "Connecting to ftp.ncbi.nlm.nih.gov (ftp.ncbi.nlm.nih.gov)|165.112.9.229|:443... connected.\n",
      "HTTP request sent, awaiting response... 200 OK\n",
      "Length: 5687769188 (5.3G) [application/x-gzip]\n",
      "Saving to: ‘/home/jovyan/storage/txt/oa_comm_txt.PMC004xxxxxx.baseline.2023-09-08.tar.gz’\n",
      "\n",
      "oa_comm_txt.PMC004x 100%[===================>]   5.30G   116MB/s    in 50s     \n",
      "\n",
      "2023-09-23 21:35:59 (109 MB/s) - ‘/home/jovyan/storage/txt/oa_comm_txt.PMC004xxxxxx.baseline.2023-09-08.tar.gz’ saved [5687769188/5687769188]\n",
      "\n",
      "--2023-09-23 21:36:00--  https://ftp.ncbi.nlm.nih.gov/pub/pmc/oa_bulk/oa_comm/txt/oa_comm_txt.PMC005xxxxxx.baseline.2023-09-08.tar.gz\n",
      "Resolving ftp.ncbi.nlm.nih.gov (ftp.ncbi.nlm.nih.gov)... 165.112.9.230, 165.112.9.228, 2607:f220:41e:250::12, ...\n",
      "Connecting to ftp.ncbi.nlm.nih.gov (ftp.ncbi.nlm.nih.gov)|165.112.9.230|:443... connected.\n",
      "HTTP request sent, awaiting response... 200 OK\n",
      "Length: 6235422296 (5.8G) [application/x-gzip]\n",
      "Saving to: ‘/home/jovyan/storage/txt/oa_comm_txt.PMC005xxxxxx.baseline.2023-09-08.tar.gz’\n",
      "\n",
      "oa_comm_txt.PMC005x 100%[===================>]   5.81G  74.4MB/s    in 84s     \n",
      "\n",
      "2023-09-23 21:37:25 (70.7 MB/s) - ‘/home/jovyan/storage/txt/oa_comm_txt.PMC005xxxxxx.baseline.2023-09-08.tar.gz’ saved [6235422296/6235422296]\n",
      "\n",
      "--2023-09-23 21:37:26--  https://ftp.ncbi.nlm.nih.gov/pub/pmc/oa_bulk/oa_comm/txt/oa_comm_txt.PMC006xxxxxx.baseline.2023-09-08.tar.gz\n",
      "Resolving ftp.ncbi.nlm.nih.gov (ftp.ncbi.nlm.nih.gov)... 165.112.9.229, 165.112.9.230, 2607:f220:41e:250::10, ...\n",
      "Connecting to ftp.ncbi.nlm.nih.gov (ftp.ncbi.nlm.nih.gov)|165.112.9.229|:443... connected.\n",
      "HTTP request sent, awaiting response... 200 OK\n",
      "Length: 7326392383 (6.8G) [application/x-gzip]\n",
      "Saving to: ‘/home/jovyan/storage/txt/oa_comm_txt.PMC006xxxxxx.baseline.2023-09-08.tar.gz’\n",
      "\n",
      "oa_comm_txt.PMC006x 100%[===================>]   6.82G  70.9MB/s    in 95s     \n",
      "\n",
      "2023-09-23 21:39:01 (73.4 MB/s) - ‘/home/jovyan/storage/txt/oa_comm_txt.PMC006xxxxxx.baseline.2023-09-08.tar.gz’ saved [7326392383/7326392383]\n",
      "\n",
      "--2023-09-23 21:39:02--  https://ftp.ncbi.nlm.nih.gov/pub/pmc/oa_bulk/oa_comm/txt/oa_comm_txt.PMC007xxxxxx.baseline.2023-09-08.tar.gz\n",
      "Resolving ftp.ncbi.nlm.nih.gov (ftp.ncbi.nlm.nih.gov)... 130.14.250.12, 130.14.250.13, 2607:f220:41f:250::230, ...\n",
      "Connecting to ftp.ncbi.nlm.nih.gov (ftp.ncbi.nlm.nih.gov)|130.14.250.12|:443... connected.\n",
      "HTTP request sent, awaiting response... 200 OK\n",
      "Length: 7916220938 (7.4G) [application/x-gzip]\n",
      "Saving to: ‘/home/jovyan/storage/txt/oa_comm_txt.PMC007xxxxxx.baseline.2023-09-08.tar.gz’\n",
      "\n",
      "oa_comm_txt.PMC007x 100%[===================>]   7.37G   107MB/s    in 69s     \n",
      "\n",
      "2023-09-23 21:40:12 (109 MB/s) - ‘/home/jovyan/storage/txt/oa_comm_txt.PMC007xxxxxx.baseline.2023-09-08.tar.gz’ saved [7916220938/7916220938]\n",
      "\n",
      "--2023-09-23 21:40:13--  https://ftp.ncbi.nlm.nih.gov/pub/pmc/oa_bulk/oa_comm/txt/oa_comm_txt.PMC008xxxxxx.baseline.2023-09-08.tar.gz\n",
      "Resolving ftp.ncbi.nlm.nih.gov (ftp.ncbi.nlm.nih.gov)... 130.14.250.10, 130.14.250.11, 2607:f220:41f:250::230, ...\n",
      "Connecting to ftp.ncbi.nlm.nih.gov (ftp.ncbi.nlm.nih.gov)|130.14.250.10|:443... connected.\n",
      "HTTP request sent, awaiting response... 200 OK\n",
      "Length: 9449642005 (8.8G) [application/x-gzip]\n",
      "Saving to: ‘/home/jovyan/storage/txt/oa_comm_txt.PMC008xxxxxx.baseline.2023-09-08.tar.gz’\n",
      "\n",
      "oa_comm_txt.PMC008x 100%[===================>]   8.80G  15.5MB/s    in 4m 50s  \n",
      "\n",
      "2023-09-23 21:45:03 (31.1 MB/s) - ‘/home/jovyan/storage/txt/oa_comm_txt.PMC008xxxxxx.baseline.2023-09-08.tar.gz’ saved [9449642005/9449642005]\n",
      "\n",
      "--2023-09-23 21:45:05--  https://ftp.ncbi.nlm.nih.gov/pub/pmc/oa_bulk/oa_comm/txt/oa_comm_txt.PMC009xxxxxx.baseline.2023-09-08.tar.gz\n",
      "Resolving ftp.ncbi.nlm.nih.gov (ftp.ncbi.nlm.nih.gov)... 165.112.9.228, 165.112.9.229, 2607:f220:41e:250::13, ...\n",
      "Connecting to ftp.ncbi.nlm.nih.gov (ftp.ncbi.nlm.nih.gov)|165.112.9.228|:443... connected.\n",
      "HTTP request sent, awaiting response... 200 OK\n",
      "Length: 9837149784 (9.2G) [application/x-gzip]\n",
      "Saving to: ‘/home/jovyan/storage/txt/oa_comm_txt.PMC009xxxxxx.baseline.2023-09-08.tar.gz’\n",
      "\n",
      "oa_comm_txt.PMC009x 100%[===================>]   9.16G  15.6MB/s    in 13m 13s \n",
      "\n",
      "2023-09-23 21:58:17 (11.8 MB/s) - ‘/home/jovyan/storage/txt/oa_comm_txt.PMC009xxxxxx.baseline.2023-09-08.tar.gz’ saved [9837149784/9837149784]\n",
      "\n",
      "--2023-09-23 21:58:19--  https://ftp.ncbi.nlm.nih.gov/pub/pmc/oa_bulk/oa_comm/txt/oa_comm_txt.PMC010xxxxxx.baseline.2023-09-08.tar.gz\n",
      "Resolving ftp.ncbi.nlm.nih.gov (ftp.ncbi.nlm.nih.gov)... 130.14.250.12, 130.14.250.10, 2607:f220:41f:250::228, ...\n",
      "Connecting to ftp.ncbi.nlm.nih.gov (ftp.ncbi.nlm.nih.gov)|130.14.250.12|:443... connected.\n",
      "HTTP request sent, awaiting response... 200 OK\n",
      "Length: 4612481162 (4.3G) [application/x-gzip]\n",
      "Saving to: ‘/home/jovyan/storage/txt/oa_comm_txt.PMC010xxxxxx.baseline.2023-09-08.tar.gz’\n",
      "\n",
      "oa_comm_txt.PMC010x 100%[===================>]   4.29G  9.13MB/s    in 6m 12s  \n",
      "\n",
      "2023-09-23 22:04:31 (11.8 MB/s) - ‘/home/jovyan/storage/txt/oa_comm_txt.PMC010xxxxxx.baseline.2023-09-08.tar.gz’ saved [4612481162/4612481162]\n",
      "\n"
     ]
    }
   ],
   "source": [
    "for a in get_tars(list_doc):\n",
    "    href = a['href']\n",
    "    download_link = f\"{LIST_PAGE}{href}\"\n",
    "    !wget -P {TXT_DIR} {download_link} "
   ]
  },
  {
   "cell_type": "code",
   "execution_count": 20,
   "id": "174f230c-755b-49e7-8efb-04a220e52925",
   "metadata": {},
   "outputs": [
    {
     "name": "stdout",
     "output_type": "stream",
     "text": [
      "total 55939684\r\n",
      "-rw-r--r-- 1 jovyan users   35072332 Sep  8 04:54 oa_comm_txt.PMC000xxxxxx.baseline.2023-09-08.tar.gz\r\n",
      "-rw-r--r-- 1 jovyan users  342235813 Sep  8 04:59 oa_comm_txt.PMC001xxxxxx.baseline.2023-09-08.tar.gz\r\n",
      "-rw-r--r-- 1 jovyan users 1471750675 Sep  8 05:17 oa_comm_txt.PMC002xxxxxx.baseline.2023-09-08.tar.gz\r\n",
      "-rw-r--r-- 1 jovyan users 4368030223 Sep  8 06:04 oa_comm_txt.PMC003xxxxxx.baseline.2023-09-08.tar.gz\r\n",
      "-rw-r--r-- 1 jovyan users 5687769188 Sep  8 07:07 oa_comm_txt.PMC004xxxxxx.baseline.2023-09-08.tar.gz\r\n",
      "-rw-r--r-- 1 jovyan users 6235422296 Sep  8 08:02 oa_comm_txt.PMC005xxxxxx.baseline.2023-09-08.tar.gz\r\n",
      "-rw-r--r-- 1 jovyan users 7326392383 Sep  8 08:59 oa_comm_txt.PMC006xxxxxx.baseline.2023-09-08.tar.gz\r\n",
      "-rw-r--r-- 1 jovyan users 7916220938 Sep  8 10:02 oa_comm_txt.PMC007xxxxxx.baseline.2023-09-08.tar.gz\r\n",
      "-rw-r--r-- 1 jovyan users 9449642005 Sep  8 11:12 oa_comm_txt.PMC008xxxxxx.baseline.2023-09-08.tar.gz\r\n",
      "-rw-r--r-- 1 jovyan users 9837149784 Sep  8 12:22 oa_comm_txt.PMC009xxxxxx.baseline.2023-09-08.tar.gz\r\n",
      "-rw-r--r-- 1 jovyan users 4612481162 Sep  8 12:50 oa_comm_txt.PMC010xxxxxx.baseline.2023-09-08.tar.gz\r\n"
     ]
    }
   ],
   "source": [
    "!ls -l {TXT_DIR}"
   ]
  },
  {
   "cell_type": "code",
   "execution_count": null,
   "id": "595b7008-410d-46e6-8e0c-b73e9eb36d4e",
   "metadata": {},
   "outputs": [],
   "source": []
  }
 ],
 "metadata": {
  "kernelspec": {
   "display_name": "Python 3 (ipykernel)",
   "language": "python",
   "name": "python3"
  },
  "language_info": {
   "codemirror_mode": {
    "name": "ipython",
    "version": 3
   },
   "file_extension": ".py",
   "mimetype": "text/x-python",
   "name": "python",
   "nbconvert_exporter": "python",
   "pygments_lexer": "ipython3",
   "version": "3.11.5"
  }
 },
 "nbformat": 4,
 "nbformat_minor": 5
}
