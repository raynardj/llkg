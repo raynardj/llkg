{
 "cells": [
  {
   "cell_type": "markdown",
   "metadata": {},
   "source": [
    "# Extract graph"
   ]
  },
  {
   "cell_type": "code",
   "execution_count": 1,
   "metadata": {},
   "outputs": [
    {
     "data": {
      "text/plain": [
       "True"
      ]
     },
     "execution_count": 1,
     "metadata": {},
     "output_type": "execute_result"
    }
   ],
   "source": [
    "from dotenv import load_dotenv\n",
    "import json\n",
    "from time import sleep\n",
    "load_dotenv(\"../.env\")"
   ]
  },
  {
   "cell_type": "code",
   "execution_count": 2,
   "metadata": {},
   "outputs": [],
   "source": [
    "from langchain.schema import HumanMessage, SystemMessage, AIMessage\n",
    "from langchain.chains import LLMChain\n",
    "from langchain.llms import BaseLLM\n",
    "from langchain.chat_models import ChatOpenAI\n",
    "from langchain.prompts import PromptTemplate\n"
   ]
  },
  {
   "cell_type": "code",
   "execution_count": 3,
   "metadata": {},
   "outputs": [],
   "source": [
    "chat = ChatOpenAI(model=\"gpt-3.5-turbo-16k\")"
   ]
  },
  {
   "cell_type": "markdown",
   "metadata": {},
   "source": [
    "Build a chain for knowledge extraction"
   ]
  },
  {
   "cell_type": "code",
   "execution_count": 4,
   "metadata": {},
   "outputs": [],
   "source": [
    "class KGChain(LLMChain):\n",
    "    @classmethod\n",
    "    def from_llm(cls, llm: BaseLLM):\n",
    "\n",
    "        prompt = PromptTemplate(\n",
    "            template=\"\"\"\n",
    "    Please extract knowledge from the following piece of text from a paper.:\n",
    "    {paper_text}, current knowledge graph structure is:{knowledge_graph},\n",
    "    please enhance the knowledge graph with the extracted knowledge if necessary.\n",
    "    The node types include, but not limited to:\n",
    "    * disease\n",
    "    * symptom\n",
    "    * diagnosis\n",
    "    * stage\n",
    "    * test\n",
    "    * treatment\n",
    "    * drug\n",
    "    * gene\n",
    "    * protein\n",
    "    The edge types include, but not limited to:\n",
    "    * has_symptom\n",
    "    * associate_with\n",
    "    * diagnose\n",
    "    * has_stage\n",
    "    * cure\n",
    "    if it's references and background research ignore it.\n",
    "    Please return only the json structure between '###'\n",
    "    \"\"\",\n",
    "            input_variables=[\n",
    "                \"paper_text\",\n",
    "                \"knowledge_graph\",\n",
    "            ],\n",
    "        )\n",
    "\n",
    "        return cls(\n",
    "            llm=llm,\n",
    "            prompt=prompt,\n",
    "            verbose=True,\n",
    "        )"
   ]
  },
  {
   "cell_type": "code",
   "execution_count": 5,
   "metadata": {},
   "outputs": [],
   "source": [
    "EMPTY_KG_DATA = dict(\n",
    "    nodes=[\n",
    "        dict(ntype=\"disease\", name=\"Esophageal Carcinoma\", id=1),\n",
    "        dict(ntype=\"symptom\", name=\"Dysphagia\", id=2),\n",
    "    ],\n",
    "    edges=[\n",
    "        dict(etype=\"has_symptom\", source=1, target=2),\n",
    "    ],\n",
    ")\n",
    "\n",
    "EMPTY_KG = f\"###\\n{json.dumps(EMPTY_KG_DATA,)}\\n###\""
   ]
  },
  {
   "cell_type": "code",
   "execution_count": 6,
   "metadata": {},
   "outputs": [],
   "source": [
    "extractor = KGChain.from_llm(llm=chat)"
   ]
  },
  {
   "cell_type": "markdown",
   "metadata": {},
   "source": [
    "## Data\n",
    "How to get more data please refer to [crawler](crawler.ipynb)"
   ]
  },
  {
   "cell_type": "code",
   "execution_count": 7,
   "metadata": {},
   "outputs": [],
   "source": [
    "from pathlib import Path"
   ]
  },
  {
   "cell_type": "code",
   "execution_count": 8,
   "metadata": {},
   "outputs": [],
   "source": [
    "DATA = Path(\"./data/\")\n",
    "TEXT = DATA / \"text\""
   ]
  },
  {
   "cell_type": "code",
   "execution_count": 9,
   "metadata": {},
   "outputs": [
    {
     "data": {
      "text/plain": [
       "[PosixPath('data/text/PMC9713002.txt'),\n",
       " PosixPath('data/text/PMC9709273.txt'),\n",
       " PosixPath('data/text/PMC9713855.txt'),\n",
       " PosixPath('data/text/PMC9708733.txt'),\n",
       " PosixPath('data/text/PMC9722938.txt'),\n",
       " PosixPath('data/text/PMC9712805.txt'),\n",
       " PosixPath('data/text/PMC9713848.txt'),\n",
       " PosixPath('data/text/PMC9712015.txt'),\n",
       " PosixPath('data/text/PMC9708886.txt'),\n",
       " PosixPath('data/text/PMC9714501.txt'),\n",
       " PosixPath('data/text/PMC9709130.txt'),\n",
       " PosixPath('data/text/PMC9711964.txt'),\n",
       " PosixPath('data/text/PMC9713810.txt')]"
      ]
     },
     "execution_count": 9,
     "metadata": {},
     "output_type": "execute_result"
    }
   ],
   "source": [
    "paper_list = list(TEXT.glob(\"*.txt\"))\n",
    "paper_list"
   ]
  },
  {
   "cell_type": "code",
   "execution_count": 10,
   "metadata": {},
   "outputs": [],
   "source": [
    "from tqdm.auto import tqdm\n",
    "from typing import Iterator"
   ]
  },
  {
   "cell_type": "code",
   "execution_count": 32,
   "metadata": {},
   "outputs": [],
   "source": [
    "def get_json_string(text, json_end: str = \"###\") -> str:\n",
    "    if json_end not in text:\n",
    "        return text.strip()\n",
    "    else:\n",
    "        return text.split(json_end)[1].strip()\n",
    "\n",
    "\n",
    "def text_slicer(text_path, char_size: int = 3000)->Iterator:\n",
    "    with open(text_path) as f:\n",
    "        text = f.read()\n",
    "    for i in tqdm(list(range(0, len(text), char_size)), leave=False):\n",
    "        yield text[i:i+char_size]\n",
    "\n",
    "\n",
    "def extract_one_paper(text_path: Path, char_size: int = 2000 ) -> str:\n",
    "    kg = EMPTY_KG\n",
    "    i = 0\n",
    "    for text in text_slicer(text_path, char_size):\n",
    "        res = extractor.run(\n",
    "            paper_text=text,\n",
    "            knowledge_graph=kg,\n",
    "        )\n",
    "        i += 1\n",
    "        if i>5:\n",
    "            continue\n",
    "        sleep(2)\n",
    "\n",
    "        try:\n",
    "            kg = json.dumps(json.loads(get_json_string(res)))\n",
    "        except json.decoder.JSONDecodeError:\n",
    "            print(f\"🥊 Error at {text_path} -({i})\")\n",
    "    return kg\n",
    "    "
   ]
  },
  {
   "cell_type": "code",
   "execution_count": 33,
   "metadata": {},
   "outputs": [],
   "source": [
    "from tqdm.auto import tqdm\n",
    "from openai.error import RateLimitError"
   ]
  },
  {
   "cell_type": "code",
   "execution_count": 25,
   "metadata": {},
   "outputs": [],
   "source": [
    "results = []\n",
    "done = []"
   ]
  },
  {
   "cell_type": "code",
   "execution_count": 35,
   "metadata": {},
   "outputs": [
    {
     "data": {
      "application/vnd.jupyter.widget-view+json": {
       "model_id": "ddaf1c52610341bd8673361d5e41ed50",
       "version_major": 2,
       "version_minor": 0
      },
      "text/plain": [
       "  0%|          | 0/13 [00:00<?, ?it/s]"
      ]
     },
     "metadata": {},
     "output_type": "display_data"
    }
   ],
   "source": [
    "for paper in tqdm(paper_list):\n",
    "    if str(paper) in done:\n",
    "        continue\n",
    "    try:\n",
    "        kg_string = extract_one_paper(paper)\n",
    "    except RateLimitError as e:\n",
    "        print(f\"rate limit error:{paper}\")\n",
    "        sleep(20.1)\n",
    "        continue\n",
    "    row = dict(\n",
    "        kg=kg_string, file_path=str(paper)\n",
    "    )\n",
    "    results.append(row)\n",
    "    done.append(str(paper))"
   ]
  },
  {
   "cell_type": "code",
   "execution_count": 37,
   "metadata": {},
   "outputs": [],
   "source": [
    "import pandas as pd"
   ]
  },
  {
   "cell_type": "code",
   "execution_count": 38,
   "metadata": {},
   "outputs": [
    {
     "data": {
      "text/html": [
       "<div>\n",
       "<style scoped>\n",
       "    .dataframe tbody tr th:only-of-type {\n",
       "        vertical-align: middle;\n",
       "    }\n",
       "\n",
       "    .dataframe tbody tr th {\n",
       "        vertical-align: top;\n",
       "    }\n",
       "\n",
       "    .dataframe thead th {\n",
       "        text-align: right;\n",
       "    }\n",
       "</style>\n",
       "<table border=\"1\" class=\"dataframe\">\n",
       "  <thead>\n",
       "    <tr style=\"text-align: right;\">\n",
       "      <th></th>\n",
       "      <th>kg</th>\n",
       "      <th>file_path</th>\n",
       "    </tr>\n",
       "  </thead>\n",
       "  <tbody>\n",
       "    <tr>\n",
       "      <th>0</th>\n",
       "      <td>{\"nodes\": [{\"ntype\": \"disease\", \"name\": \"Esoph...</td>\n",
       "      <td>data/text/PMC9713002.txt</td>\n",
       "    </tr>\n",
       "    <tr>\n",
       "      <th>1</th>\n",
       "      <td>{\"nodes\": [{\"ntype\": \"disease\", \"name\": \"Barre...</td>\n",
       "      <td>data/text/PMC9709273.txt</td>\n",
       "    </tr>\n",
       "    <tr>\n",
       "      <th>2</th>\n",
       "      <td>{\"nodes\": [{\"ntype\": \"disease\", \"name\": \"Esoph...</td>\n",
       "      <td>data/text/PMC9713855.txt</td>\n",
       "    </tr>\n",
       "    <tr>\n",
       "      <th>3</th>\n",
       "      <td>{\"nodes\": [{\"ntype\": \"treatment\", \"name\": \"Tis...</td>\n",
       "      <td>data/text/PMC9708733.txt</td>\n",
       "    </tr>\n",
       "    <tr>\n",
       "      <th>4</th>\n",
       "      <td>{\"nodes\": [{\"ntype\": \"disease\", \"name\": \"Esoph...</td>\n",
       "      <td>data/text/PMC9722938.txt</td>\n",
       "    </tr>\n",
       "    <tr>\n",
       "      <th>5</th>\n",
       "      <td>{\"nodes\": [{\"ntype\": \"gene\", \"name\": \"IL-15\", ...</td>\n",
       "      <td>data/text/PMC9712805.txt</td>\n",
       "    </tr>\n",
       "    <tr>\n",
       "      <th>6</th>\n",
       "      <td>{\"nodes\": [{\"ntype\": \"disease\", \"name\": \"Esoph...</td>\n",
       "      <td>data/text/PMC9713848.txt</td>\n",
       "    </tr>\n",
       "    <tr>\n",
       "      <th>7</th>\n",
       "      <td>{\"nodes\": [{\"ntype\": \"disease\", \"name\": \"Esoph...</td>\n",
       "      <td>data/text/PMC9712015.txt</td>\n",
       "    </tr>\n",
       "    <tr>\n",
       "      <th>8</th>\n",
       "      <td>{\"nodes\": [{\"ntype\": \"disease\", \"name\": \"Esoph...</td>\n",
       "      <td>data/text/PMC9708886.txt</td>\n",
       "    </tr>\n",
       "    <tr>\n",
       "      <th>9</th>\n",
       "      <td>{\"nodes\": [{\"ntype\": \"disease\", \"name\": \"Esoph...</td>\n",
       "      <td>data/text/PMC9714501.txt</td>\n",
       "    </tr>\n",
       "    <tr>\n",
       "      <th>10</th>\n",
       "      <td>{\"nodes\": [{\"ntype\": \"disease\", \"name\": \"Esoph...</td>\n",
       "      <td>data/text/PMC9709130.txt</td>\n",
       "    </tr>\n",
       "    <tr>\n",
       "      <th>11</th>\n",
       "      <td>{\"nodes\": [{\"ntype\": \"disease\", \"name\": \"Esoph...</td>\n",
       "      <td>data/text/PMC9711964.txt</td>\n",
       "    </tr>\n",
       "    <tr>\n",
       "      <th>12</th>\n",
       "      <td>{\"nodes\": [{\"ntype\": \"disease\", \"name\": \"Esoph...</td>\n",
       "      <td>data/text/PMC9713810.txt</td>\n",
       "    </tr>\n",
       "  </tbody>\n",
       "</table>\n",
       "</div>"
      ],
      "text/plain": [
       "                                                   kg  \\\n",
       "0   {\"nodes\": [{\"ntype\": \"disease\", \"name\": \"Esoph...   \n",
       "1   {\"nodes\": [{\"ntype\": \"disease\", \"name\": \"Barre...   \n",
       "2   {\"nodes\": [{\"ntype\": \"disease\", \"name\": \"Esoph...   \n",
       "3   {\"nodes\": [{\"ntype\": \"treatment\", \"name\": \"Tis...   \n",
       "4   {\"nodes\": [{\"ntype\": \"disease\", \"name\": \"Esoph...   \n",
       "5   {\"nodes\": [{\"ntype\": \"gene\", \"name\": \"IL-15\", ...   \n",
       "6   {\"nodes\": [{\"ntype\": \"disease\", \"name\": \"Esoph...   \n",
       "7   {\"nodes\": [{\"ntype\": \"disease\", \"name\": \"Esoph...   \n",
       "8   {\"nodes\": [{\"ntype\": \"disease\", \"name\": \"Esoph...   \n",
       "9   {\"nodes\": [{\"ntype\": \"disease\", \"name\": \"Esoph...   \n",
       "10  {\"nodes\": [{\"ntype\": \"disease\", \"name\": \"Esoph...   \n",
       "11  {\"nodes\": [{\"ntype\": \"disease\", \"name\": \"Esoph...   \n",
       "12  {\"nodes\": [{\"ntype\": \"disease\", \"name\": \"Esoph...   \n",
       "\n",
       "                   file_path  \n",
       "0   data/text/PMC9713002.txt  \n",
       "1   data/text/PMC9709273.txt  \n",
       "2   data/text/PMC9713855.txt  \n",
       "3   data/text/PMC9708733.txt  \n",
       "4   data/text/PMC9722938.txt  \n",
       "5   data/text/PMC9712805.txt  \n",
       "6   data/text/PMC9713848.txt  \n",
       "7   data/text/PMC9712015.txt  \n",
       "8   data/text/PMC9708886.txt  \n",
       "9   data/text/PMC9714501.txt  \n",
       "10  data/text/PMC9709130.txt  \n",
       "11  data/text/PMC9711964.txt  \n",
       "12  data/text/PMC9713810.txt  "
      ]
     },
     "execution_count": 38,
     "metadata": {},
     "output_type": "execute_result"
    }
   ],
   "source": [
    "kg_df = pd.DataFrame(results)\n",
    "kg_df"
   ]
  },
  {
   "cell_type": "code",
   "execution_count": 26,
   "metadata": {},
   "outputs": [
    {
     "data": {
      "text/plain": [
       "{'nodes': [{'ntype': 'diagnosis',\n",
       "   'name': 'Lymphovascular Invasion (LVI)',\n",
       "   'id': 3},\n",
       "  {'ntype': 'diagnosis', 'name': 'Lymph Node Metastasis (LNM)', 'id': 4},\n",
       "  {'ntype': 'diagnosis',\n",
       "   'name': 'Superficial Esophageal Squamous Cell Carcinoma (SESCC)',\n",
       "   'id': 5},\n",
       "  {'ntype': 'stage', 'name': 'Tumor Size', 'id': 6},\n",
       "  {'ntype': 'stage', 'name': 'Circumferential Extension', 'id': 7},\n",
       "  {'ntype': 'stage', 'name': 'Location within Esophagus', 'id': 8},\n",
       "  {'ntype': 'stage', 'name': 'Depth of Invasion', 'id': 9},\n",
       "  {'ntype': 'stage', 'name': 'Tumor Differentiation', 'id': 10},\n",
       "  {'ntype': 'stage', 'name': 'Macroscopic Type', 'id': 11},\n",
       "  {'ntype': 'stage', 'name': 'Multiple Lesions', 'id': 12},\n",
       "  {'ntype': 'test', 'name': 'SPSS', 'id': 13},\n",
       "  {'ntype': 'test', 'name': 'R', 'id': 14},\n",
       "  {'ntype': 'treatment', 'name': 'Esophagectomy', 'id': 15},\n",
       "  {'ntype': 'treatment', 'name': 'Lymph Node Dissection', 'id': 16}],\n",
       " 'edges': [{'etype': 'associate_with', 'source': 3, 'target': 5},\n",
       "  {'etype': 'associate_with', 'source': 4, 'target': 5},\n",
       "  {'etype': 'has_stage', 'source': 5, 'target': 6},\n",
       "  {'etype': 'has_stage', 'source': 5, 'target': 7},\n",
       "  {'etype': 'has_stage', 'source': 5, 'target': 8},\n",
       "  {'etype': 'has_stage', 'source': 5, 'target': 9},\n",
       "  {'etype': 'has_stage', 'source': 5, 'target': 10},\n",
       "  {'etype': 'has_stage', 'source': 5, 'target': 11},\n",
       "  {'etype': 'has_stage', 'source': 5, 'target': 12},\n",
       "  {'etype': 'diagnose', 'source': 13, 'target': 5},\n",
       "  {'etype': 'diagnose', 'source': 14, 'target': 5},\n",
       "  {'etype': 'cure', 'source': 15, 'target': 3},\n",
       "  {'etype': 'cure', 'source': 15, 'target': 4},\n",
       "  {'etype': 'cure', 'source': 16, 'target': 3},\n",
       "  {'etype': 'cure', 'source': 16, 'target': 4}]}"
      ]
     },
     "execution_count": 26,
     "metadata": {},
     "output_type": "execute_result"
    }
   ],
   "source": [
    "json.loads(kg_string)"
   ]
  },
  {
   "cell_type": "code",
   "execution_count": 34,
   "metadata": {},
   "outputs": [],
   "source": [
    "from jinja2 import Template"
   ]
  },
  {
   "cell_type": "code",
   "execution_count": 39,
   "metadata": {},
   "outputs": [],
   "source": [
    "with open(\"vis-kg.html\") as f:\n",
    "    nodes_template = Template(f.read())"
   ]
  },
  {
   "cell_type": "code",
   "execution_count": null,
   "metadata": {},
   "outputs": [],
   "source": []
  }
 ],
 "metadata": {
  "kernelspec": {
   "display_name": "Python 3 (ipykernel)",
   "language": "python",
   "name": "python3"
  },
  "language_info": {
   "codemirror_mode": {
    "name": "ipython",
    "version": 3
   },
   "file_extension": ".py",
   "mimetype": "text/x-python",
   "name": "python",
   "nbconvert_exporter": "python",
   "pygments_lexer": "ipython3",
   "version": "3.9.12"
  },
  "toc": {
   "base_numbering": 1,
   "nav_menu": {},
   "number_sections": true,
   "sideBar": true,
   "skip_h1_title": false,
   "title_cell": "Table of Contents",
   "title_sidebar": "Contents",
   "toc_cell": false,
   "toc_position": {},
   "toc_section_display": true,
   "toc_window_display": false
  }
 },
 "nbformat": 4,
 "nbformat_minor": 2
}
