{
 "cells": [
  {
   "cell_type": "markdown",
   "metadata": {},
   "source": [
    "# Extract Knowledge Graph with 1 Shot Extraction"
   ]
  },
  {
   "cell_type": "code",
   "execution_count": 70,
   "metadata": {},
   "outputs": [],
   "source": [
    "import json\n",
    "import os\n",
    "from pathlib import Path\n",
    "\n",
    "from dotenv import load_dotenv\n",
    "import tiktoken\n",
    "\n",
    "import requests"
   ]
  },
  {
   "cell_type": "code",
   "execution_count": 10,
   "metadata": {},
   "outputs": [
    {
     "data": {
      "text/plain": [
       "True"
      ]
     },
     "execution_count": 10,
     "metadata": {},
     "output_type": "execute_result"
    }
   ],
   "source": [
    "load_dotenv(\"../.env\")\n",
    "\n",
    "OPENAI_API_KEY = os.getenv(\"OPENAI_API_KEY\")\n",
    "OPENAI_API_KEY[:5]"
   ]
  },
  {
   "cell_type": "code",
   "execution_count": 13,
   "metadata": {},
   "outputs": [],
   "source": [
    "DATA = Path(\"data\")\n",
    "PAPERS = DATA / \"text\"\n",
    "papers = list(PAPERS.glob(\"*.txt\"))\n",
    "text = papers[0].read_text()"
   ]
  },
  {
   "cell_type": "code",
   "execution_count": 20,
   "metadata": {},
   "outputs": [],
   "source": [
    "MODEL_NAME = \"gpt-4-1106-preview\""
   ]
  },
  {
   "cell_type": "code",
   "execution_count": 30,
   "metadata": {},
   "outputs": [],
   "source": [
    "tokenizer = tiktoken.encoding_for_model(\"gpt-3.5-turbo\")"
   ]
  },
  {
   "cell_type": "code",
   "execution_count": 44,
   "metadata": {},
   "outputs": [],
   "source": [
    "def capping_tokens(\n",
    "    text,\n",
    "    max_tokens: int=60e3\n",
    ") -> str:\n",
    "    tokens = tokenizer.encode(text)\n",
    "    if len(tokens) > max_tokens:\n",
    "        tokens = tokens[:int(max_tokens)]\n",
    "    return tokenizer.decode(tokens)"
   ]
  },
  {
   "cell_type": "code",
   "execution_count": 46,
   "metadata": {},
   "outputs": [],
   "source": []
  },
  {
   "cell_type": "code",
   "execution_count": 66,
   "metadata": {},
   "outputs": [],
   "source": [
    "ROLE = \"\"\"\n",
    "Please extract knowledge from the following piece of text from a paper.\n",
    "please enhance the knowledge graph with the extracted knowledge if necessary.\n",
    "The node types include, but not limited to:\n",
    "disease, symptom, diagnosis, stage, test, treatment, drug, gene, protein\n",
    "Please use the following format to extract the knowledge, the edge's source and target could only be the node's integer id, return json only.\n",
    "{\n",
    "    \"nodes\": [\n",
    "        {\n",
    "            \"id\": 1,\n",
    "            \"type\": \"disease\",\n",
    "            \"name\": \"COVID-19\"\n",
    "        },\n",
    "        {\n",
    "            \"id\": 2,\n",
    "            \"type\": \"symptom\",\n",
    "            \"name\": \"fever\"\n",
    "        }\n",
    "    ],\n",
    "    \"edges\": [\n",
    "        {\n",
    "            \"source\": 1,\n",
    "            \"target\": 2,\n",
    "            \"type\": \"has_symptom\"\n",
    "        }\n",
    "    ]\n",
    "}\n",
    "\"\"\""
   ]
  },
  {
   "cell_type": "code",
   "execution_count": 67,
   "metadata": {},
   "outputs": [],
   "source": [
    "def get_payload(\n",
    "    system_role: str,\n",
    "    user_message: str\n",
    ") -> str:\n",
    "    \"\"\"\n",
    "    system_role: str\n",
    "        The role of the system, e.g. \"system\"\n",
    "    user_message: str\n",
    "        The user's message\n",
    "    \"\"\"\n",
    "    return {\n",
    "        \"model\": MODEL_NAME,\n",
    "        \"response_format\": {\"type\": \"json_object\"},\n",
    "        \"messages\": [\n",
    "            {\n",
    "                \"role\":\"system\",\n",
    "                \"content\": system_role\n",
    "            },\n",
    "            {\n",
    "                \"role\":\"user\",\n",
    "                \"content\": user_message\n",
    "            }\n",
    "        ],\n",
    "    }"
   ]
  },
  {
   "cell_type": "code",
   "execution_count": 75,
   "metadata": {},
   "outputs": [],
   "source": [
    "def get_graphs(\n",
    "    text: str,\n",
    "    paper_max_token: int=60e3,\n",
    "):\n",
    "    # capping for max tokens\n",
    "    text = capping_tokens(text)\n",
    "    payload = get_payload(ROLE, text)\n",
    "\n",
    "    res = requests.post(\n",
    "        \"https://api.openai.com/v1/chat/completions\",\n",
    "        json=payload,\n",
    "        headers={\"Authorization\": f\"Bearer {OPENAI_API_KEY}\"},\n",
    "    )\n",
    "    json_data = res.json()\n",
    "    if 'choices' in json_data:\n",
    "        return_text = json_data['choices'][0]['message']['content']\n",
    "    try:\n",
    "        return json.loads(return_text)\n",
    "    except json.decoder.JSONDecodeError:\n",
    "        print(\"json parse error\")\n",
    "        return {\n",
    "            \"nodes\": [],\n",
    "            \"edges\": []\n",
    "        }"
   ]
  },
  {
   "cell_type": "code",
   "execution_count": 76,
   "metadata": {},
   "outputs": [
    {
     "name": "stdout",
     "output_type": "stream",
     "text": [
      "{'id': 'chatcmpl-8JaT24aHw5zTOam0kEf8hU2A3A2FH', 'object': 'chat.completion', 'created': 1699679104, 'model': 'gpt-4-1106-preview', 'choices': [{'index': 0, 'message': {'role': 'assistant', 'content': '{\\n  \"nodes\": [\\n    {\\n      \"id\": 1,\\n      \"type\": \"disease\",\\n      \"name\": \"lymph node metastasis\"\\n    },\\n    {\\n      \"id\": 2,\\n      \"type\": \"disease\",\\n      \"name\": \"lymphovascular invasion\"\\n    },\\n    {\\n      \"id\": 3,\\n      \"type\": \"disease\",\\n      \"name\": \"superficial esophageal squamous cell carcinoma\"\\n    },\\n    {\\n      \"id\": 4,\\n      \"type\": \"test\",\\n      \"name\": \"preoperative predictor\"\\n    },\\n    {\\n      \"id\": 5,\\n      \"type\": \"treatment\",\\n      \"name\": \"radical resection\"\\n    },\\n    {\\n      \"id\": 6,\\n      \"type\": \"test\",\\n      \"name\": \"Logistic regression\"\\n    },\\n    {\\n      \"id\": 7,\\n      \"type\": \"test\",\\n      \"name\": \"least absolute shrinkage and selection operator (LASSO) regression\"\\n    },\\n    {\\n      \"id\": 8,\\n      \"type\": \"test\",\\n      \"name\": \"Integrated discrimination improvement (IDI)\"\\n    },\\n    {\\n      \"id\": 9,\\n      \"type\": \"test\",\\n      \"name\": \"net reclassification improvement (NRI)\"\\n    },\\n    {\\n      \"id\": 10,\\n      \"type\": \"test\",\\n      \"name\": \"nomogram\"\\n    },\\n    {\\n      \"id\": 11,\\n      \"type\": \"test\",\\n      \"name\": \"area under the curve (AUC)\"\\n    },\\n    {\\n      \"id\": 12,\\n      \"type\": \"test\",\\n      \"name\": \"calibration curve\"\\n    },\\n    {\\n      \"id\": 13,\\n      \"type\": \"test\",\\n      \"name\": \"decision curve analysis (DCA)\"\\n    },\\n    {\\n      \"id\": 14,\\n      \"type\": \"test\",\\n      \"name\": \"random forest (RF) algorithm\"\\n    },\\n    {\\n      \"id\": 15,\\n      \"type\": \"symptom\",\\n      \"name\": \"tumor size\"\\n    },\\n    {\\n      \"id\": 16,\\n      \"type\": \"symptom\",\\n      \"name\": \"tumor location\"\\n    },\\n    {\\n      \"id\": 17,\\n      \"type\": \"symptom\",\\n      \"name\": \"tumor invasion depth\"\\n    },\\n    {\\n      \"id\": 18,\\n      \"type\": \"symptom\",\\n      \"name\": \"tumor differentiation\"\\n    },\\n    {\\n      \"id\": 19,\\n      \"type\": \"symptom\",\\n      \"name\": \"macroscopic type\"\\n    }\\n  ],\\n  \"edges\": [\\n    {\\n      \"source\": 1,\\n      \"target\": 10,\\n      \"type\": \"risk_factor_for\"\\n    },\\n    {\\n      \"source\": 2,\\n      \"target\": 10,\\n      \"type\": \"risk_factor_for\"\\n    },\\n    {\\n      \"source\": 3,\\n      \"target\": 10,\\n      \"type\": \"outcome_of\"\\n    },\\n    {\\n      \"source\": 3,\\n      \"target\": 5,\\n      \"type\": \"treated_by\"\\n    },\\n    {\\n      \"source\": 5,\\n      \"target\": 6,\\n      \"type\": \"data_collected_for\"\\n    },\\n    {\\n      \"source\": 5,\\n      \"target\": 7,\\n      \"type\": \"data_collected_for\"\\n    },\\n    {\\n      \"source\": 10,\\n      \"target\": 11,\\n      \"type\": \"assessed_by\"\\n    },\\n    {\\n      \"source\": 10,\\n      \"target\": 12,\\n      \"type\": \"assessed_by\"\\n    },\\n    {\\n      \"source\": 10,\\n      \"target\": 13,\\n      \"type\": \"assessed_by\"\\n    },\\n    {\\n      \"source\": 10,\\n      \"target\": 14,\\n      \"type\": \"compared_with\"\\n    },\\n    {\\n      \"source\": 15,\\n      \"target\": 10,\\n      \"type\": \"included_in\"\\n    },\\n    {\\n      \"source\": 16,\\n      \"target\": 10,\\n      \"type\": \"included_in\"\\n    },\\n    {\\n      \"source\": 17,\\n      \"target\": 10,\\n      \"type\": \"included_in\"\\n    },\\n    {\\n      \"source\": 18,\\n      \"target\": 10,\\n      \"type\": \"included_in\"\\n    },\\n    {\\n      \"source\": 19,\\n      \"target\": 10,\\n      \"type\": \"included_in\"\\n    }\\n  ]\\n}'}, 'finish_reason': 'stop'}], 'usage': {'prompt_tokens': 12589, 'completion_tokens': 977, 'total_tokens': 13566}, 'system_fingerprint': 'fp_a24b4d720c'}\n"
     ]
    },
    {
     "ename": "KeyError",
     "evalue": "'text'",
     "output_type": "error",
     "traceback": [
      "\u001b[0;31m---------------------------------------------------------------------------\u001b[0m",
      "\u001b[0;31mKeyError\u001b[0m                                  Traceback (most recent call last)",
      "\u001b[1;32m/Users/drwho/github/llkg/nbs/03-long-text-extract.ipynb Cell 12\u001b[0m line \u001b[0;36m1\n\u001b[0;32m----> <a href='vscode-notebook-cell:/Users/drwho/github/llkg/nbs/03-long-text-extract.ipynb#X11sZmlsZQ%3D%3D?line=0'>1</a>\u001b[0m kg \u001b[39m=\u001b[39m get_graphs(text)\n",
      "\u001b[1;32m/Users/drwho/github/llkg/nbs/03-long-text-extract.ipynb Cell 12\u001b[0m line \u001b[0;36m1\n\u001b[1;32m     <a href='vscode-notebook-cell:/Users/drwho/github/llkg/nbs/03-long-text-extract.ipynb#X11sZmlsZQ%3D%3D?line=14'>15</a>\u001b[0m \u001b[39mif\u001b[39;00m \u001b[39m'\u001b[39m\u001b[39mchoices\u001b[39m\u001b[39m'\u001b[39m \u001b[39min\u001b[39;00m json_data:\n\u001b[1;32m     <a href='vscode-notebook-cell:/Users/drwho/github/llkg/nbs/03-long-text-extract.ipynb#X11sZmlsZQ%3D%3D?line=15'>16</a>\u001b[0m     \u001b[39mprint\u001b[39m(json_data)\n\u001b[0;32m---> <a href='vscode-notebook-cell:/Users/drwho/github/llkg/nbs/03-long-text-extract.ipynb#X11sZmlsZQ%3D%3D?line=16'>17</a>\u001b[0m     return_text \u001b[39m=\u001b[39m json_data[\u001b[39m'\u001b[39;49m\u001b[39mchoices\u001b[39;49m\u001b[39m'\u001b[39;49m][\u001b[39m0\u001b[39;49m][\u001b[39m'\u001b[39;49m\u001b[39mtext\u001b[39;49m\u001b[39m'\u001b[39;49m]\n\u001b[1;32m     <a href='vscode-notebook-cell:/Users/drwho/github/llkg/nbs/03-long-text-extract.ipynb#X11sZmlsZQ%3D%3D?line=17'>18</a>\u001b[0m \u001b[39mtry\u001b[39;00m:\n\u001b[1;32m     <a href='vscode-notebook-cell:/Users/drwho/github/llkg/nbs/03-long-text-extract.ipynb#X11sZmlsZQ%3D%3D?line=18'>19</a>\u001b[0m     \u001b[39mreturn\u001b[39;00m json\u001b[39m.\u001b[39mloads(return_text)\n",
      "\u001b[0;31mKeyError\u001b[0m: 'text'"
     ]
    }
   ],
   "source": [
    "kg = get_graphs(text)"
   ]
  },
  {
   "cell_type": "code",
   "execution_count": null,
   "metadata": {},
   "outputs": [],
   "source": []
  }
 ],
 "metadata": {
  "kernelspec": {
   "display_name": "base",
   "language": "python",
   "name": "python3"
  },
  "language_info": {
   "codemirror_mode": {
    "name": "ipython",
    "version": 3
   },
   "file_extension": ".py",
   "mimetype": "text/x-python",
   "name": "python",
   "nbconvert_exporter": "python",
   "pygments_lexer": "ipython3",
   "version": "3.9.12"
  }
 },
 "nbformat": 4,
 "nbformat_minor": 2
}
