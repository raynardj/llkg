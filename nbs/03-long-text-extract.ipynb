{
 "cells": [
  {
   "cell_type": "markdown",
   "metadata": {},
   "source": [
    "# Extract Knowledge Graph with 1 Shot Extraction"
   ]
  },
  {
   "cell_type": "code",
   "execution_count": 70,
   "metadata": {},
   "outputs": [],
   "source": [
    "import json\n",
    "import os\n",
    "from pathlib import Path\n",
    "\n",
    "from dotenv import load_dotenv\n",
    "import tiktoken\n",
    "\n",
    "import requests"
   ]
  },
  {
   "cell_type": "code",
   "execution_count": 10,
   "metadata": {},
   "outputs": [
    {
     "data": {
      "text/plain": [
       "True"
      ]
     },
     "execution_count": 10,
     "metadata": {},
     "output_type": "execute_result"
    }
   ],
   "source": [
    "load_dotenv(\"../.env\")\n",
    "\n",
    "OPENAI_API_KEY = os.getenv(\"OPENAI_API_KEY\")\n",
    "OPENAI_API_KEY[:5]"
   ]
  },
  {
   "cell_type": "code",
   "execution_count": 13,
   "metadata": {},
   "outputs": [],
   "source": [
    "DATA = Path(\"data\")\n",
    "PAPERS = DATA / \"text\"\n",
    "papers = list(PAPERS.glob(\"*.txt\"))\n",
    "text = papers[0].read_text()"
   ]
  },
  {
   "cell_type": "code",
   "execution_count": 20,
   "metadata": {},
   "outputs": [],
   "source": [
    "MODEL_NAME = \"gpt-4-1106-preview\""
   ]
  },
  {
   "cell_type": "code",
   "execution_count": 30,
   "metadata": {},
   "outputs": [],
   "source": [
    "tokenizer = tiktoken.encoding_for_model(\"gpt-3.5-turbo\")"
   ]
  },
  {
   "cell_type": "code",
   "execution_count": 80,
   "metadata": {},
   "outputs": [],
   "source": [
    "def capping_tokens(\n",
    "    text,\n",
    "    max_tokens: int=30e3\n",
    ") -> str:\n",
    "    tokens = tokenizer.encode(text)\n",
    "    if len(tokens) > max_tokens:\n",
    "        tokens = tokens[:int(max_tokens)]\n",
    "    return tokenizer.decode(tokens)"
   ]
  },
  {
   "cell_type": "markdown",
   "metadata": {},
   "source": [
    "## Role prompt"
   ]
  },
  {
   "cell_type": "code",
   "execution_count": 66,
   "metadata": {},
   "outputs": [],
   "source": [
    "ROLE = \"\"\"\n",
    "Please extract knowledge from the following piece of text from a paper.\n",
    "please enhance the knowledge graph with the extracted knowledge if necessary.\n",
    "The node types include, but not limited to:\n",
    "disease, symptom, diagnosis, stage, test, treatment, drug, gene, protein\n",
    "Please use the following format to extract the knowledge, the edge's source and target could only be the node's integer id, return json only.\n",
    "{\n",
    "    \"nodes\": [\n",
    "        {\n",
    "            \"id\": 1,\n",
    "            \"type\": \"disease\",\n",
    "            \"name\": \"COVID-19\"\n",
    "        },\n",
    "        {\n",
    "            \"id\": 2,\n",
    "            \"type\": \"symptom\",\n",
    "            \"name\": \"fever\"\n",
    "        }\n",
    "    ],\n",
    "    \"edges\": [\n",
    "        {\n",
    "            \"source\": 1,\n",
    "            \"target\": 2,\n",
    "            \"type\": \"has_symptom\"\n",
    "        }\n",
    "    ]\n",
    "}\n",
    "\"\"\""
   ]
  },
  {
   "cell_type": "code",
   "execution_count": 67,
   "metadata": {},
   "outputs": [],
   "source": [
    "def get_payload(\n",
    "    system_role: str,\n",
    "    user_message: str\n",
    ") -> str:\n",
    "    \"\"\"\n",
    "    system_role: str\n",
    "        The role of the system, e.g. \"system\"\n",
    "    user_message: str\n",
    "        The user's message\n",
    "    \"\"\"\n",
    "    return {\n",
    "        \"model\": MODEL_NAME,\n",
    "        \"response_format\": {\"type\": \"json_object\"},\n",
    "        \"messages\": [\n",
    "            {\n",
    "                \"role\":\"system\",\n",
    "                \"content\": system_role\n",
    "            },\n",
    "            {\n",
    "                \"role\":\"user\",\n",
    "                \"content\": user_message\n",
    "            }\n",
    "        ],\n",
    "    }"
   ]
  },
  {
   "cell_type": "code",
   "execution_count": 77,
   "metadata": {},
   "outputs": [],
   "source": [
    "def get_graphs(\n",
    "    text: str,\n",
    "    paper_max_token: int=60e3,\n",
    "):\n",
    "    # capping for max tokens\n",
    "    text = capping_tokens(text)\n",
    "    payload = get_payload(ROLE, text)\n",
    "\n",
    "    res = requests.post(\n",
    "        \"https://api.openai.com/v1/chat/completions\",\n",
    "        json=payload,\n",
    "        headers={\"Authorization\": f\"Bearer {OPENAI_API_KEY}\"},\n",
    "    )\n",
    "    json_data = res.json()\n",
    "    if 'choices' in json_data:\n",
    "        return_text = json_data['choices'][0]['message']['content']\n",
    "    try:\n",
    "        return json.loads(return_text)\n",
    "    except json.decoder.JSONDecodeError:\n",
    "        print(\"json parse error\")\n",
    "        return {\n",
    "            \"nodes\": [],\n",
    "            \"edges\": []\n",
    "        }"
   ]
  },
  {
   "cell_type": "code",
   "execution_count": 78,
   "metadata": {},
   "outputs": [],
   "source": [
    "kg = get_graphs(text)"
   ]
  },
  {
   "cell_type": "code",
   "execution_count": 79,
   "metadata": {},
   "outputs": [
    {
     "data": {
      "text/plain": [
       "{'nodes': [{'id': 1,\n",
       "   'type': 'disease',\n",
       "   'name': 'superficial esophageal squamous cell carcinoma'},\n",
       "  {'id': 2, 'type': 'disease', 'name': 'lymph node metastasis'},\n",
       "  {'id': 3, 'type': 'diagnosis', 'name': 'lymphovascular invasion'},\n",
       "  {'id': 4, 'type': 'test', 'name': 'nomogram'},\n",
       "  {'id': 5, 'type': 'treatment', 'name': 'esophagectomy'},\n",
       "  {'id': 6, 'type': 'treatment', 'name': 'endoscopic resection'},\n",
       "  {'id': 7, 'type': 'test', 'name': 'endoscopic ultrasonography'},\n",
       "  {'id': 8, 'type': 'test', 'name': 'contrast-enhanced computed tomography'},\n",
       "  {'id': 9,\n",
       "   'type': 'test',\n",
       "   'name': 'fluorodeoxyglucose positron emission tomography'},\n",
       "  {'id': 10,\n",
       "   'type': 'symptom',\n",
       "   'name': 'lymphatic or blood vessel tumor cells'},\n",
       "  {'id': 11, 'type': 'test', 'name': 'endoscopic mucosal dissection'},\n",
       "  {'id': 12, 'type': 'test', 'name': 'endoscopic mucosal resection'},\n",
       "  {'id': 13, 'type': 'treatment', 'name': 'lymph node dissection'},\n",
       "  {'id': 14, 'type': 'diagnosis', 'name': 'lymph node status'},\n",
       "  {'id': 15, 'type': 'symptom', 'name': 'tumor cell invasion'},\n",
       "  {'id': 16, 'type': 'test', 'name': 'pathological examination'},\n",
       "  {'id': 17, 'type': 'diagnosis', 'name': 'tumor invasion depth'},\n",
       "  {'id': 18, 'type': 'diagnosis', 'name': 'tumor differentiation'},\n",
       "  {'id': 19, 'type': 'diagnosis', 'name': 'macroscopic type'},\n",
       "  {'id': 20, 'type': 'diagnosis', 'name': 'tumor location'},\n",
       "  {'id': 21, 'type': 'diagnosis', 'name': 'multiple lesions'},\n",
       "  {'id': 22, 'type': 'stage', 'name': 'Tis'},\n",
       "  {'id': 23, 'type': 'stage', 'name': 'T1a'},\n",
       "  {'id': 24, 'type': 'stage', 'name': 'T1b'}],\n",
       " 'edges': [{'source': 1, 'target': 2, 'type': 'associated_with'},\n",
       "  {'source': 1, 'target': 3, 'type': 'associated_with'},\n",
       "  {'source': 1, 'target': 5, 'type': 'treated_with'},\n",
       "  {'source': 1, 'target': 6, 'type': 'treated_with'},\n",
       "  {'source': 2, 'target': 7, 'type': 'diagnosed_by'},\n",
       "  {'source': 2, 'target': 8, 'type': 'diagnosed_by'},\n",
       "  {'source': 2, 'target': 9, 'type': 'diagnosed_by'},\n",
       "  {'source': 3, 'target': 10, 'type': 'indicated_by'},\n",
       "  {'source': 6, 'target': 11, 'type': 'includes'},\n",
       "  {'source': 6, 'target': 12, 'type': 'includes'},\n",
       "  {'source': 6, 'target': 2, 'type': 'not_recommended_for'},\n",
       "  {'source': 1, 'target': 14, 'type': 'diagnosis_of'},\n",
       "  {'source': 1, 'target': 15, 'type': 'characterized_by'},\n",
       "  {'source': 3, 'target': 16, 'type': 'diagnosed_by'},\n",
       "  {'source': 1, 'target': 17, 'type': 'associated_with'},\n",
       "  {'source': 1, 'target': 18, 'type': 'associated_with'},\n",
       "  {'source': 1, 'target': 19, 'type': 'associated_with'},\n",
       "  {'source': 1, 'target': 20, 'type': 'associated_with'},\n",
       "  {'source': 1, 'target': 21, 'type': 'associated_with'},\n",
       "  {'source': 1, 'target': 22, 'type': 'characterized_by'},\n",
       "  {'source': 1, 'target': 23, 'type': 'characterized_by'},\n",
       "  {'source': 1, 'target': 24, 'type': 'characterized_by'},\n",
       "  {'source': 5, 'target': 13, 'type': 'includes'},\n",
       "  {'source': 4, 'target': 1, 'type': 'predicts_risk_of'}]}"
      ]
     },
     "execution_count": 79,
     "metadata": {},
     "output_type": "execute_result"
    }
   ],
   "source": [
    "kg"
   ]
  },
  {
   "cell_type": "code",
   "execution_count": null,
   "metadata": {},
   "outputs": [],
   "source": []
  }
 ],
 "metadata": {
  "kernelspec": {
   "display_name": "base",
   "language": "python",
   "name": "python3"
  },
  "language_info": {
   "codemirror_mode": {
    "name": "ipython",
    "version": 3
   },
   "file_extension": ".py",
   "mimetype": "text/x-python",
   "name": "python",
   "nbconvert_exporter": "python",
   "pygments_lexer": "ipython3",
   "version": "3.9.12"
  }
 },
 "nbformat": 4,
 "nbformat_minor": 2
}
