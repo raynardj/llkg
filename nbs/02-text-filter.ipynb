{
 "cells": [
  {
   "cell_type": "markdown",
   "id": "5e7fa13c-abf4-4fab-9e30-40947786b2f1",
   "metadata": {},
   "source": [
    "# Filter & extract"
   ]
  },
  {
   "cell_type": "code",
   "execution_count": 1,
   "id": "eb7124ef-0fa7-4595-8d9a-b4d9d4c5b928",
   "metadata": {},
   "outputs": [
    {
     "name": "stdout",
     "output_type": "stream",
     "text": [
      "Requirement already satisfied: pandas in /opt/conda/lib/python3.11/site-packages (2.1.1)\n",
      "Requirement already satisfied: numpy>=1.23.2 in /opt/conda/lib/python3.11/site-packages (from pandas) (1.26.0)\n",
      "Requirement already satisfied: python-dateutil>=2.8.2 in /opt/conda/lib/python3.11/site-packages (from pandas) (2.8.2)\n",
      "Requirement already satisfied: pytz>=2020.1 in /opt/conda/lib/python3.11/site-packages (from pandas) (2023.3.post1)\n",
      "Requirement already satisfied: tzdata>=2022.1 in /opt/conda/lib/python3.11/site-packages (from pandas) (2023.3)\n",
      "Requirement already satisfied: six>=1.5 in /opt/conda/lib/python3.11/site-packages (from python-dateutil>=2.8.2->pandas) (1.16.0)\n",
      "Note: you may need to restart the kernel to use updated packages.\n"
     ]
    }
   ],
   "source": [
    "# %pip install pandas"
   ]
  },
  {
   "cell_type": "code",
   "execution_count": 2,
   "id": "e43e6bf1-6830-4930-a62d-cf4ed4afff6e",
   "metadata": {},
   "outputs": [
    {
     "name": "stdout",
     "output_type": "stream",
     "text": [
      "Filesystem      Size  Used Avail Use% Mounted on\n",
      "overlay          20G  4.5G   15G  25% /\n",
      "tmpfs            64M     0   64M   0% /dev\n",
      "shm              64M     0   64M   0% /dev/shm\n",
      "/dev/sda1        20G  4.5G   15G  25% /etc/hosts\n",
      "/dev/sdb         98G   56G   38G  60% /home/jovyan/storage\n",
      "tmpfs           7.9G     0  7.9G   0% /proc/acpi\n",
      "tmpfs           7.9G     0  7.9G   0% /sys/firmware\n"
     ]
    }
   ],
   "source": [
    "!df -h"
   ]
  },
  {
   "cell_type": "markdown",
   "id": "c3576a1f-06ce-4a78-96d0-02eafd68abfe",
   "metadata": {},
   "source": [
    "## Meta data"
   ]
  },
  {
   "cell_type": "code",
   "execution_count": 3,
   "id": "2b715984-7848-45b0-9554-f40e278d333f",
   "metadata": {},
   "outputs": [],
   "source": [
    "import pandas as pd\n",
    "from pathlib import Path"
   ]
  },
  {
   "cell_type": "code",
   "execution_count": 6,
   "id": "258b5d6f-0877-4d52-85cb-f435bc3f44e7",
   "metadata": {},
   "outputs": [],
   "source": [
    "STORAGE = Path.home() / \"storage\"\n",
    "METADATA = STORAGE / \"meta\"\n",
    "\n",
    "TEMP = STORAGE / \"temp\"\n",
    "PAPERS = STORAGE / \"papers\"\n",
    "\n",
    "!mkdir -p {TEMP}\n",
    "!mkdir -p {PAPERS} "
   ]
  },
  {
   "cell_type": "code",
   "execution_count": 7,
   "id": "9115f01d-1df0-4efd-9c34-02ae1e798132",
   "metadata": {},
   "outputs": [
    {
     "name": "stdout",
     "output_type": "stream",
     "text": [
      "target_pmcid.txt\n"
     ]
    }
   ],
   "source": [
    "!ls {METADATA}"
   ]
  },
  {
   "cell_type": "code",
   "execution_count": 8,
   "id": "3a6c6f52-8210-4f4d-b471-a25d8480d119",
   "metadata": {},
   "outputs": [
    {
     "data": {
      "text/plain": [
       "99705"
      ]
     },
     "execution_count": 8,
     "metadata": {},
     "output_type": "execute_result"
    }
   ],
   "source": [
    "id_list = set(list(pd.read_csv(METADATA / 'target_pmcid.txt', names=[\"pmcid\"])[\"pmcid\"]))\n",
    "len(id_list)"
   ]
  },
  {
   "cell_type": "markdown",
   "id": "e32badbd-ff5d-4af1-8462-c32b983d74ed",
   "metadata": {},
   "source": [
    "## Packages"
   ]
  },
  {
   "cell_type": "code",
   "execution_count": 9,
   "id": "720953fb-ef1a-4cd3-a52c-fe3171d650db",
   "metadata": {},
   "outputs": [],
   "source": [
    "def get_package():\n",
    "    for file in (STORAGE / \"txt\").rglob(\"*.tar.gz\"):\n",
    "        yield file"
   ]
  },
  {
   "cell_type": "markdown",
   "id": "b98ee2d8-5942-45f5-ae5a-ac8b2ae34a08",
   "metadata": {},
   "source": [
    "Unpack things 1 by 1, and filter with the pmcid"
   ]
  },
  {
   "cell_type": "code",
   "execution_count": null,
   "id": "fcbd7523-0c24-402e-a1e9-b533448a1863",
   "metadata": {},
   "outputs": [],
   "source": [
    "ct = 0\n",
    "for tar_file in get_package():\n",
    "    !rm -rf {TEMP}\n",
    "    !mkdir -p {TEMP}\n",
    "    !tar -xzvf {tar_file} -C {TEMP} > {tar_file.stem}.log\n",
    "    print(f\"🚛 {tar_file}\")\n",
    "    !du -sh {TEMP}\n",
    "    for paper in TEMP.rglob(\"*.txt\"):\n",
    "        if paper.stem in id_list:\n",
    "            ct += 1\n",
    "            !mv {paper} {PAPERS}/\n",
    "            if ct % 200 == 0:\n",
    "                print(\"📦\" ,end=\"\")\n",
    "        else:\n",
    "            paper.unlink()\n",
    "    !rm {tar_file}"
   ]
  },
  {
   "cell_type": "code",
   "execution_count": null,
   "id": "fa6437fc-2688-400a-b57f-680c8963114c",
   "metadata": {},
   "outputs": [],
   "source": []
  }
 ],
 "metadata": {
  "kernelspec": {
   "display_name": "Python 3 (ipykernel)",
   "language": "python",
   "name": "python3"
  },
  "language_info": {
   "codemirror_mode": {
    "name": "ipython",
    "version": 3
   },
   "file_extension": ".py",
   "mimetype": "text/x-python",
   "name": "python",
   "nbconvert_exporter": "python",
   "pygments_lexer": "ipython3",
   "version": "3.11.5"
  }
 },
 "nbformat": 4,
 "nbformat_minor": 5
}
